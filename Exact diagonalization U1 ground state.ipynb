{
 "cells": [
  {
   "cell_type": "markdown",
   "id": "657781cb",
   "metadata": {},
   "source": [
    "## <font color='red'> Code to find ground state of Schwinger model and show phase transition (pair creation) by varying bare mass. </font>"
   ]
  },
  {
   "cell_type": "markdown",
   "id": "736c3e8c",
   "metadata": {},
   "source": [
    "#### &copy; Abhijit Chakraborty"
   ]
  },
  {
   "cell_type": "code",
   "execution_count": 31,
   "id": "756460e9",
   "metadata": {},
   "outputs": [
    {
     "name": "stdout",
     "output_type": "stream",
     "text": [
      "Enter number of lattice sites:4\n"
     ]
    }
   ],
   "source": [
    "N = int(input('Enter number of lattice sites:'))"
   ]
  },
  {
   "cell_type": "code",
   "execution_count": 32,
   "id": "29395184",
   "metadata": {},
   "outputs": [],
   "source": [
    "import numpy as np\n",
    "import math\n",
    "import matplotlib.pyplot as plt\n",
    "%matplotlib inline"
   ]
  },
  {
   "cell_type": "code",
   "execution_count": 3,
   "id": "273ed082",
   "metadata": {},
   "outputs": [],
   "source": [
    "from numpy import linalg as LA"
   ]
  },
  {
   "cell_type": "code",
   "execution_count": 4,
   "id": "db01bd2b",
   "metadata": {},
   "outputs": [],
   "source": [
    "np.set_printoptions(suppress=True)"
   ]
  },
  {
   "cell_type": "markdown",
   "id": "f24c9cc0",
   "metadata": {},
   "source": [
    "### Creating the basis (with both occupation number and spin)"
   ]
  },
  {
   "cell_type": "code",
   "execution_count": 5,
   "id": "bb69d620",
   "metadata": {},
   "outputs": [],
   "source": [
    "# Dimension of the lattice Hilbert space\n",
    "\n",
    "size = 2**N"
   ]
  },
  {
   "cell_type": "code",
   "execution_count": 33,
   "id": "f258c859",
   "metadata": {},
   "outputs": [],
   "source": [
    "# Function to create the staggered basis set for the lattice\n",
    "\n",
    "def lattperm(n):\n",
    "    size = 2**n\n",
    "    binarr = [None]*size\n",
    "    \n",
    "    for i in range(size):\n",
    "        binarr[i] = bin(i)[2:]\n",
    "        l = len(binarr[i])\n",
    "        if l<n:\n",
    "            for j in range(n-l):\n",
    "                binarr[i] = '0' + binarr[i]\n",
    "        binarr[i] = list(map(int,list(binarr[i])))\n",
    "        \n",
    "    return binarr"
   ]
  },
  {
   "cell_type": "code",
   "execution_count": 34,
   "id": "11db5073",
   "metadata": {},
   "outputs": [],
   "source": [
    "# Creates the occupation number basis (Fock)\n",
    "\n",
    "binarr = lattperm(N)"
   ]
  },
  {
   "cell_type": "code",
   "execution_count": 35,
   "id": "6181164f",
   "metadata": {},
   "outputs": [
    {
     "data": {
      "text/plain": [
       "[[0, 0, 0, 0],\n",
       " [0, 0, 0, 1],\n",
       " [0, 0, 1, 0],\n",
       " [0, 0, 1, 1],\n",
       " [0, 1, 0, 0],\n",
       " [0, 1, 0, 1],\n",
       " [0, 1, 1, 0],\n",
       " [0, 1, 1, 1],\n",
       " [1, 0, 0, 0],\n",
       " [1, 0, 0, 1],\n",
       " [1, 0, 1, 0],\n",
       " [1, 0, 1, 1],\n",
       " [1, 1, 0, 0],\n",
       " [1, 1, 0, 1],\n",
       " [1, 1, 1, 0],\n",
       " [1, 1, 1, 1]]"
      ]
     },
     "execution_count": 35,
     "metadata": {},
     "output_type": "execute_result"
    }
   ],
   "source": [
    "binarr"
   ]
  },
  {
   "cell_type": "code",
   "execution_count": 36,
   "id": "78e57030",
   "metadata": {},
   "outputs": [],
   "source": [
    "# Function to create the spin basis for the staggered fermions\n",
    "\n",
    "def lat_to_spin(arr):\n",
    "    n = len(arr)\n",
    "    spinarr = [[0]*N for _ in range(n)]\n",
    "    for i in range(n):\n",
    "        for j in range(N):\n",
    "            if j%2==0:\n",
    "                if arr[i][j] == 0:\n",
    "                    spin = 1\n",
    "                else:\n",
    "                    spin = -1\n",
    "            else:\n",
    "                if arr[i][j] == 0:\n",
    "                    spin = -1\n",
    "                else:\n",
    "                    spin = 1\n",
    "            spinarr[i][j] = spin\n",
    "    return spinarr"
   ]
  },
  {
   "cell_type": "code",
   "execution_count": 37,
   "id": "59894d6f",
   "metadata": {},
   "outputs": [
    {
     "data": {
      "text/plain": [
       "[[1, -1, 1, -1],\n",
       " [1, -1, 1, 1],\n",
       " [1, -1, -1, -1],\n",
       " [1, -1, -1, 1],\n",
       " [1, 1, 1, -1],\n",
       " [1, 1, 1, 1],\n",
       " [1, 1, -1, -1],\n",
       " [1, 1, -1, 1],\n",
       " [-1, -1, 1, -1],\n",
       " [-1, -1, 1, 1],\n",
       " [-1, -1, -1, -1],\n",
       " [-1, -1, -1, 1],\n",
       " [-1, 1, 1, -1],\n",
       " [-1, 1, 1, 1],\n",
       " [-1, 1, -1, -1],\n",
       " [-1, 1, -1, 1]]"
      ]
     },
     "execution_count": 37,
     "metadata": {},
     "output_type": "execute_result"
    }
   ],
   "source": [
    "# Creates the lattice spin basis and print it\n",
    "\n",
    "spinarr = lat_to_spin(binarr)\n",
    "spinarr "
   ]
  },
  {
   "cell_type": "markdown",
   "id": "6b51251b",
   "metadata": {},
   "source": [
    "### Defining the Hamiltonian terms"
   ]
  },
  {
   "cell_type": "code",
   "execution_count": 10,
   "id": "073bc311",
   "metadata": {},
   "outputs": [],
   "source": [
    "# This is the mass term\n",
    "\n",
    "def hamiltonianM(m,spinstr):\n",
    "    eng = 0\n",
    "    for i in range(1,N+1):\n",
    "        \n",
    "        if i%2==1:\n",
    "            eng += -(m/2)*spinstr[i-1]\n",
    "        else:\n",
    "            eng += (m/2)*spinstr[i-1]\n",
    "    \n",
    "    return eng + m*N/2"
   ]
  },
  {
   "cell_type": "code",
   "execution_count": 11,
   "id": "192d479e",
   "metadata": {},
   "outputs": [],
   "source": [
    "# Checking the mass term values for m = 1.0\n",
    "\n",
    "#for i in range(size):\n",
    "#    print('Occupation: ', binarr[i], 'Energy: ', hamiltonianM(1.0,spinarr[i]))"
   ]
  },
  {
   "cell_type": "code",
   "execution_count": 12,
   "id": "4bbcc37e",
   "metadata": {},
   "outputs": [],
   "source": [
    "# This is the other J-dependent term in H_Z\n",
    "\n",
    "def HZJ(J,spinstr):\n",
    "    tot = 0\n",
    "    for n in range(1,N):\n",
    "        sigma_z = 0\n",
    "        if n%2 == 1:\n",
    "            for j in range(n):\n",
    "                sigma_z += spinstr[j]\n",
    "        tot += sigma_z\n",
    "        \n",
    "    return tot*J/2.0"
   ]
  },
  {
   "cell_type": "code",
   "execution_count": 13,
   "id": "9d55e281",
   "metadata": {},
   "outputs": [],
   "source": [
    "# Checking the values of the J-dependent terms in H_Z for J = 1.0\n",
    "\n",
    "#for i in range(size):\n",
    "#    print('Occupation: ', binarr[i], 'Energy: ', HZJ(1.0,spinarr[i]))"
   ]
  },
  {
   "cell_type": "code",
   "execution_count": 14,
   "id": "18498976",
   "metadata": {},
   "outputs": [],
   "source": [
    "# This is the long-range correlation term\n",
    "\n",
    "def corrHam(J,spinstr):\n",
    "    tot = 0\n",
    "    for n in range(1,N-1):\n",
    "        for l in range (n+1,N):\n",
    "            tot += J*(N-l)*spinstr[n-1]*spinstr[l-1]/2\n",
    "    return tot"
   ]
  },
  {
   "cell_type": "code",
   "execution_count": 15,
   "id": "15abf808",
   "metadata": {},
   "outputs": [],
   "source": [
    "# Checking values for long range correlation term for J = 1.0\n",
    "\n",
    "#for i in range(size):\n",
    "#    print('Occupation: ', binarr[i], 'Energy: ', corrHam(1.0,spinarr[i]))"
   ]
  },
  {
   "cell_type": "code",
   "execution_count": 16,
   "id": "ca391e84",
   "metadata": {},
   "outputs": [],
   "source": [
    "# Function to calculate the diagonal terms of the Hamiltonian matrix hmat\n",
    "\n",
    "def energy_diag(m,J,spinarr,hmat):\n",
    "    size = 2**N\n",
    "    for i in range(size):\n",
    "        hmat[i][i] = corrHam(J,spinarr[i]) + hamiltonianM(m,spinarr[i]) - HZJ(J,spinarr[i])\n",
    "        \n",
    "    return  "
   ]
  },
  {
   "cell_type": "code",
   "execution_count": 17,
   "id": "0e1a7d88",
   "metadata": {},
   "outputs": [],
   "source": [
    "# Creates the Hamiltonian matrix with diagonal terms\n",
    "#m = -10.0\n",
    "#J = 1.0\n",
    "#hmat = np.zeros((size,size))\n",
    "#energy_diag(m,J,spinarr,hmat)"
   ]
  },
  {
   "cell_type": "code",
   "execution_count": 18,
   "id": "70412384",
   "metadata": {},
   "outputs": [],
   "source": [
    "# Function to find index of non-zero off-diagonal terms for a given basis vector and n.\n",
    "\n",
    "def find_off(spinarr,n,i):\n",
    "    tempspin = list(spinarr[i])\n",
    "    tempspin[n], tempspin[n+1] = tempspin[n+1], tempspin[n]\n",
    "    j = spinarr.index(tempspin)\n",
    "    \n",
    "    return j"
   ]
  },
  {
   "cell_type": "code",
   "execution_count": 19,
   "id": "d68ea10e",
   "metadata": {},
   "outputs": [],
   "source": [
    "# Function to calculate the off-diagonal terms in the Hamiltonian\n",
    "\n",
    "def flipflop(w,spinarr,hmat):\n",
    "    \n",
    "    for i in range(size):\n",
    "        for j in range(N-1):\n",
    "            if spinarr[i][j]*spinarr[i][j+1]==-1:\n",
    "                ind = find_off(spinarr,j,i)\n",
    "                hmat[i][ind] = w\n",
    "    return"
   ]
  },
  {
   "cell_type": "code",
   "execution_count": 20,
   "id": "28ba9580",
   "metadata": {},
   "outputs": [],
   "source": [
    "# Checking the off-diagonal terms for w = 1.0\n",
    "#w = 1.0\n",
    "#flipflop(w,spinarr,hmat)"
   ]
  },
  {
   "cell_type": "markdown",
   "id": "2c12c2bd",
   "metadata": {},
   "source": [
    "### Finding the ground state"
   ]
  },
  {
   "cell_type": "code",
   "execution_count": 21,
   "id": "e312cbcd",
   "metadata": {},
   "outputs": [],
   "source": [
    "# Function to return the ground state energy and the ground state wavefunction for a given Hamiltonian\n",
    "\n",
    "def ground_state(hmat):\n",
    "    w, v = LA.eig(hmat)\n",
    "    min_eig = min(w)\n",
    "    ind = np.where(w==min_eig)[0][0]\n",
    "    \n",
    "    return min_eig, v[:,ind]"
   ]
  },
  {
   "cell_type": "code",
   "execution_count": 22,
   "id": "e3f51f16",
   "metadata": {},
   "outputs": [],
   "source": [
    "# Find the ground state energy and the corresponding wavefunction.\n",
    "\n",
    "#eig, vec = LA.eig(hmat)"
   ]
  },
  {
   "cell_type": "code",
   "execution_count": 23,
   "id": "181eb0c5",
   "metadata": {
    "scrolled": true
   },
   "outputs": [],
   "source": [
    "# Uncomment to print the ground state energy and the corresponding wavefunction.\n",
    "\n",
    "#print(eig)\n",
    "#print(vec)"
   ]
  },
  {
   "cell_type": "code",
   "execution_count": 24,
   "id": "0e21222b",
   "metadata": {
    "scrolled": true
   },
   "outputs": [],
   "source": [
    "#uncomment to print the hamiltonian\n",
    "\n",
    "#hmat"
   ]
  },
  {
   "cell_type": "markdown",
   "id": "76e6f7e4",
   "metadata": {},
   "source": [
    "### Order parameter"
   ]
  },
  {
   "cell_type": "code",
   "execution_count": 25,
   "id": "3d52491f",
   "metadata": {},
   "outputs": [],
   "source": [
    "# Function to define the order parameter (observable).\n",
    "\n",
    "def order_param(spinstr):\n",
    "    tot = 0.0\n",
    "    for i in range(N):\n",
    "        if (i+1)%2==0:\n",
    "            fterm = 1 + spinstr[i]\n",
    "        else:    \n",
    "            fterm = 1 - spinstr[i]\n",
    "        for j in range(i+1,N):\n",
    "            if (j+1)%2==0:\n",
    "                sterm = 1 + spinstr[j]\n",
    "            else:    \n",
    "                sterm = 1 - spinstr[j] \n",
    "            tot += fterm*sterm\n",
    "            \n",
    "    return tot/(2*N*(N-1))"
   ]
  },
  {
   "cell_type": "code",
   "execution_count": 26,
   "id": "de3b337b",
   "metadata": {},
   "outputs": [],
   "source": [
    "# Uncomment to check the value of the order parameter for the basis vectors.\n",
    "\n",
    "#for i in range(size):\n",
    "#    print('Order parameter = ', order_param(spinarr[i]), '\\t','Spin Config = ', spinarr[i] )"
   ]
  },
  {
   "cell_type": "code",
   "execution_count": 27,
   "id": "7bd65f35",
   "metadata": {},
   "outputs": [],
   "source": [
    "# Creating the array with different values of m\n",
    "\n",
    "mvals = np.linspace(-5,5,num=200)"
   ]
  },
  {
   "cell_type": "markdown",
   "id": "f7b72903",
   "metadata": {},
   "source": [
    "## Finding the order parameter for the ground state and plotting the phase transition"
   ]
  },
  {
   "cell_type": "code",
   "execution_count": 28,
   "id": "cbd5ae58",
   "metadata": {},
   "outputs": [],
   "source": [
    "# Evaluate the ground state of Hamiltonian matrix as function of m and calculate expectation value of order parameter.\n",
    "\n",
    "order_list = []\n",
    "occupation_list = []\n",
    "for m in mvals:\n",
    "    w = 1.0\n",
    "    J = 1.0\n",
    "    hmat = np.zeros((size,size))\n",
    "    energy_diag(m,J,spinarr,hmat)\n",
    "    flipflop(w,spinarr,hmat)\n",
    "    eig, vec = ground_state(hmat)\n",
    "    #print(vec)\n",
    "    tot = 0.0\n",
    "    occ = 0.0\n",
    "    for i in range(size):\n",
    "        tot += order_param(spinarr[i])*vec[i]*vec[i]\n",
    "        occ += sum(binarr[i])*vec[i]*vec[i]\n",
    "    order_list.append(tot) \n",
    "    occupation_list.append(occ)"
   ]
  },
  {
   "cell_type": "code",
   "execution_count": 40,
   "id": "7f0f33e3",
   "metadata": {},
   "outputs": [
    {
     "data": {
      "text/plain": [
       "Text(0, 0.5, 'Order parameter')"
      ]
     },
     "execution_count": 40,
     "metadata": {},
     "output_type": "execute_result"
    },
    {
     "data": {
      "image/png": "[encoded data removed]",
      "text/plain": [
       "<Figure size 432x288 with 1 Axes>"
      ]
     },
     "metadata": {
      "needs_background": "light"
     },
     "output_type": "display_data"
    }
   ],
   "source": [
    "plt.plot(mvals,order_list,'.')\n",
    "plt.xlabel('bare mass')\n",
    "plt.ylabel('Order parameter')"
   ]
  },
  {
   "cell_type": "markdown",
   "id": "a475597e",
   "metadata": {},
   "source": [
    "### Plotting the occupation number"
   ]
  },
  {
   "cell_type": "code",
   "execution_count": 30,
   "id": "2e9e88ee",
   "metadata": {},
   "outputs": [
    {
     "data": {
      "text/plain": [
       "Text(0, 0.5, 'Occupation Number')"
      ]
     },
     "execution_count": 30,
     "metadata": {},
     "output_type": "execute_result"
    },
    {
     "data": {
      "image/png": "[encoded data removed]",
      "text/plain": [
       "<Figure size 432x288 with 1 Axes>"
      ]
     },
     "metadata": {
      "needs_background": "light"
     },
     "output_type": "display_data"
    }
   ],
   "source": [
    "plt.plot(mvals,occupation_list,'.')\n",
    "plt.xlabel('bare mass')\n",
    "plt.ylabel('Occupation Number')"
   ]
  },
  {
   "cell_type": "code",
   "execution_count": 41,
   "id": "1515f7f5",
   "metadata": {},
   "outputs": [
    {
     "data": {
      "text/plain": [
       "[[1, -1, 1, -1],\n",
       " [1, -1, 1, 1],\n",
       " [1, -1, -1, -1],\n",
       " [1, -1, -1, 1],\n",
       " [1, 1, 1, -1],\n",
       " [1, 1, 1, 1],\n",
       " [1, 1, -1, -1],\n",
       " [1, 1, -1, 1],\n",
       " [-1, -1, 1, -1],\n",
       " [-1, -1, 1, 1],\n",
       " [-1, -1, -1, -1],\n",
       " [-1, -1, -1, 1],\n",
       " [-1, 1, 1, -1],\n",
       " [-1, 1, 1, 1],\n",
       " [-1, 1, -1, -1],\n",
       " [-1, 1, -1, 1]]"
      ]
     },
     "execution_count": 41,
     "metadata": {},
     "output_type": "execute_result"
    }
   ],
   "source": [
    "spinarr"
   ]
  },
  {
   "cell_type": "code",
   "execution_count": null,
   "id": "d36c3b42",
   "metadata": {},
   "outputs": [],
   "source": []
  }
 ],
 "metadata": {
  "kernelspec": {
   "display_name": "Python 3 (ipykernel)",
   "language": "python",
   "name": "python3"
  },
  "language_info": {
   "codemirror_mode": {
    "name": "ipython",
    "version": 3
   },
   "file_extension": ".py",
   "mimetype": "text/x-python",
   "name": "python",
   "nbconvert_exporter": "python",
   "pygments_lexer": "ipython3",
   "version": "3.7.9"
  }
 },
 "nbformat": 4,
 "nbformat_minor": 5
}
