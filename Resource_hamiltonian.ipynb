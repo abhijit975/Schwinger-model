{
 "cells": [
  {
   "cell_type": "markdown",
   "id": "4aca5bf4",
   "metadata": {},
   "source": [
    "## <font color='red'> Code to find the ground state of the Schwinger model using a resource Hamiltonian.   </font>"
   ]
  },
  {
   "cell_type": "markdown",
   "id": "43a9f4b6",
   "metadata": {},
   "source": [
    "### <font color='blue'> Classical optimization shows results for the resource Ising Hamiltonian matches with the target Schwinger model Hamiltonian </font>"
   ]
  },
  {
   "cell_type": "markdown",
   "id": "3faaea79",
   "metadata": {},
   "source": [
    "#### &copy; Abhijit Chakraborty"
   ]
  },
  {
   "cell_type": "code",
   "execution_count": 103,
   "id": "ef694db7",
   "metadata": {},
   "outputs": [
    {
     "name": "stdout",
     "output_type": "stream",
     "text": [
      "Enter number of lattice sites: 4\n"
     ]
    }
   ],
   "source": [
    "# Takes the number of lattice sites as input\n",
    "\n",
    "N = int(input('Enter number of lattice sites: '))"
   ]
  },
  {
   "cell_type": "code",
   "execution_count": 104,
   "id": "87b9143c",
   "metadata": {},
   "outputs": [
    {
     "name": "stdout",
     "output_type": "stream",
     "text": [
      "Enter number of layers for VQE: 3\n"
     ]
    }
   ],
   "source": [
    "# Takes the number of VQE layers as input\n",
    "\n",
    "layers = int(input('Enter number of layers for VQE: '))"
   ]
  },
  {
   "cell_type": "code",
   "execution_count": 105,
   "id": "19a86f20",
   "metadata": {},
   "outputs": [],
   "source": [
    "import numpy as np\n",
    "import math\n",
    "import matplotlib.pyplot as plt\n",
    "%matplotlib inline\n",
    "import random"
   ]
  },
  {
   "cell_type": "code",
   "execution_count": 106,
   "id": "81a5d58f",
   "metadata": {},
   "outputs": [],
   "source": [
    "from numpy import linalg as LA\n",
    "np.set_printoptions(suppress=True)"
   ]
  },
  {
   "cell_type": "code",
   "execution_count": 107,
   "id": "4210ac57",
   "metadata": {},
   "outputs": [],
   "source": [
    "size = 2**N"
   ]
  },
  {
   "cell_type": "markdown",
   "id": "9caa4968",
   "metadata": {},
   "source": [
    "#### The next four cells create the basis in terms of occupation number and spin."
   ]
  },
  {
   "cell_type": "code",
   "execution_count": 108,
   "id": "822c3ec2",
   "metadata": {},
   "outputs": [],
   "source": [
    "def lattperm(n):\n",
    "    size = 2**n\n",
    "    binarr = [None]*size\n",
    "    \n",
    "    for i in range(size):\n",
    "        binarr[i] = bin(i)[2:]\n",
    "        l = len(binarr[i])\n",
    "        if l<n:\n",
    "            for j in range(n-l):\n",
    "                binarr[i] = '0' + binarr[i]\n",
    "        binarr[i] = list(map(int,list(binarr[i])))\n",
    "        \n",
    "    return binarr"
   ]
  },
  {
   "cell_type": "code",
   "execution_count": 109,
   "id": "a3d43e71",
   "metadata": {},
   "outputs": [],
   "source": [
    "binarr = lattperm(N)"
   ]
  },
  {
   "cell_type": "code",
   "execution_count": 110,
   "id": "772ea8f9",
   "metadata": {},
   "outputs": [],
   "source": [
    "def lat_to_spin(arr):\n",
    "    n = len(arr)\n",
    "    spinarr = [[0]*N for _ in range(n)]\n",
    "    for i in range(n):\n",
    "        for j in range(N):\n",
    "            if j%2==0:\n",
    "                if arr[i][j] == 0:\n",
    "                    spin = 1\n",
    "                else:\n",
    "                    spin = -1\n",
    "            else:\n",
    "                if arr[i][j] == 0:\n",
    "                    spin = -1\n",
    "                else:\n",
    "                    spin = 1\n",
    "            spinarr[i][j] = spin\n",
    "    return spinarr"
   ]
  },
  {
   "cell_type": "code",
   "execution_count": 111,
   "id": "76722a65",
   "metadata": {},
   "outputs": [],
   "source": [
    "spinarr = lat_to_spin(binarr)\n",
    "#spinarr"
   ]
  },
  {
   "cell_type": "code",
   "execution_count": 112,
   "id": "e758af0f",
   "metadata": {},
   "outputs": [],
   "source": [
    "def find_off(spinarr,n,i,j):\n",
    "    tempspin = list(spinarr[n])\n",
    "    tempspin[j], tempspin[i] = tempspin[i], tempspin[j]\n",
    "    ind = spinarr.index(tempspin)\n",
    "    \n",
    "    return ind"
   ]
  },
  {
   "cell_type": "code",
   "execution_count": 113,
   "id": "5cfc6171",
   "metadata": {},
   "outputs": [],
   "source": [
    "# Defining the Ising Hamiltonian.\n",
    "\n",
    "def h_ising(J0,spinarr,hmat,B):\n",
    "    \n",
    "    for n in range(size):\n",
    "        for i in range(N-1):\n",
    "            for j in range(i+1,N):\n",
    "                if spinarr[n][i]*spinarr[n][j]==-1:\n",
    "                    ind = find_off(spinarr,n,i,j)\n",
    "                    hmat[n][ind] = J0/abs(i-j)**2\n",
    "                    hmat[ind][n] = J0/abs(i-j)**2\n",
    "        hmat[n][n] = B*sum(spinarr[n])\n",
    "    return"
   ]
  },
  {
   "cell_type": "code",
   "execution_count": 114,
   "id": "a82c2159",
   "metadata": {},
   "outputs": [],
   "source": [
    "# Creates the Ising Hamiltonian with the flipflop and rotation terms. To put B = 0, change the last argument to 0.\n",
    "\n",
    "hmat = np.zeros((size,size))\n",
    "h_ising(1.0,spinarr,hmat,1.0)"
   ]
  },
  {
   "cell_type": "code",
   "execution_count": 115,
   "id": "ac87f9fb",
   "metadata": {},
   "outputs": [],
   "source": [
    "from scipy.linalg import expm"
   ]
  },
  {
   "cell_type": "code",
   "execution_count": 116,
   "id": "95fd2f9f",
   "metadata": {},
   "outputs": [],
   "source": [
    "# Creates the matrix exp(-i theta H_ising)\n",
    "\n",
    "def unitary_ising(theta,hmat):\n",
    "    unitary_mat = expm(-1j*theta*hmat)\n",
    "    return unitary_mat"
   ]
  },
  {
   "cell_type": "code",
   "execution_count": 117,
   "id": "da83e2d9",
   "metadata": {},
   "outputs": [],
   "source": [
    "# Creates the single rotation matrix U_z(theta)\n",
    "\n",
    "def single_rot(theta):\n",
    "    sigmaz = np.array([[1,0],[0,-1]])\n",
    "    return expm(-1j*(theta/2)*sigmaz)"
   ]
  },
  {
   "cell_type": "code",
   "execution_count": 118,
   "id": "ffaf6ce5",
   "metadata": {},
   "outputs": [],
   "source": [
    "# Creates the layer with local rotations on N qubits\n",
    "\n",
    "def all_single_rot(params):\n",
    "    num = len(params)\n",
    "    temp = single_rot(params[0])\n",
    "    for i in range(1,num):\n",
    "        temp = np.kron(temp,single_rot(params[i]))\n",
    "    return temp   "
   ]
  },
  {
   "cell_type": "code",
   "execution_count": 119,
   "id": "6dfe39f1",
   "metadata": {},
   "outputs": [],
   "source": [
    "# Creates a layer of unitary evolution with Ising hamiltonian and sigma_z rotations. Has (N/2+1) parameters.\n",
    "\n",
    "def single_layer(params,hmat):\n",
    "    theta = params[0]\n",
    "    ising = unitary_ising(theta,hmat)\n",
    "    rot = all_single_rot(params[1:])\n",
    "    return np.matmul(rot,ising)"
   ]
  },
  {
   "cell_type": "code",
   "execution_count": null,
   "id": "403a4663",
   "metadata": {},
   "outputs": [],
   "source": []
  },
  {
   "cell_type": "markdown",
   "id": "acf5e9a4",
   "metadata": {},
   "source": [
    "### Creating the total unitary matrix $U(\\theta_i)$ that will act on $|\\psi(0)\\rangle$"
   ]
  },
  {
   "cell_type": "code",
   "execution_count": 120,
   "id": "eaeb616d",
   "metadata": {},
   "outputs": [],
   "source": [
    "# This function produces the final state of the VQE circuit after all gates are carried out.\n",
    "\n",
    "def resource_state(thetas):\n",
    "    length = len(thetas)\n",
    "    temp = np.eye(size)\n",
    "    for i in range(1,layers+1):\n",
    "        start = int((length/layers)*(i-1))\n",
    "        end = int((length/layers)*i)\n",
    "        params = np.append(thetas[start:end],thetas[start+1:end][::-1]*(-1))\n",
    "        #print(params)\n",
    "        temp = np.matmul(single_layer(params,hmat),temp)\n",
    "    initial_state = np.zeros(size)\n",
    "    initial_state[0] = 1\n",
    "    final_state = np.matmul(temp,initial_state)\n",
    "    \n",
    "    return final_state"
   ]
  },
  {
   "cell_type": "markdown",
   "id": "8cae6369",
   "metadata": {},
   "source": [
    "### Target hamiltonian to calculate the cost function"
   ]
  },
  {
   "cell_type": "code",
   "execution_count": 121,
   "id": "75b5c145",
   "metadata": {},
   "outputs": [],
   "source": [
    "def hamiltonianM(m,spinstr):\n",
    "    eng = 0\n",
    "    for i in range(1,N+1):\n",
    "        \n",
    "        if i%2==1:\n",
    "            eng += -(m/2)*spinstr[i-1]\n",
    "        else:\n",
    "            eng += (m/2)*spinstr[i-1]\n",
    "    \n",
    "    return eng + m*N/2"
   ]
  },
  {
   "cell_type": "code",
   "execution_count": 122,
   "id": "b6a77643",
   "metadata": {},
   "outputs": [],
   "source": [
    "def HZJ(J,spinstr):\n",
    "    tot = 0\n",
    "    for n in range(1,N):\n",
    "        sigma_z = 0\n",
    "        if n%2 == 1:\n",
    "            for j in range(n):\n",
    "                sigma_z += spinstr[j]\n",
    "        tot += sigma_z\n",
    "        \n",
    "    return tot*J/2.0"
   ]
  },
  {
   "cell_type": "code",
   "execution_count": 123,
   "id": "fc5c9456",
   "metadata": {},
   "outputs": [],
   "source": [
    "def corrHam(J,spinstr):\n",
    "    tot = 0\n",
    "    for n in range(1,N-1):\n",
    "        for l in range (n+1,N):\n",
    "            tot += J*(N-l)*spinstr[n-1]*spinstr[l-1]/2\n",
    "    return tot"
   ]
  },
  {
   "cell_type": "code",
   "execution_count": 124,
   "id": "2631257d",
   "metadata": {},
   "outputs": [],
   "source": [
    "def energy_diag(m,J,spinarr,hm):\n",
    "    size = 2**N\n",
    "    for i in range(size):\n",
    "        hm[i][i] = corrHam(J,spinarr[i]) + hamiltonianM(m,spinarr[i]) - HZJ(J,spinarr[i])\n",
    "        \n",
    "    return  "
   ]
  },
  {
   "cell_type": "code",
   "execution_count": 125,
   "id": "c8fbc107",
   "metadata": {},
   "outputs": [],
   "source": [
    "def find_ind(spinarr,n,i):\n",
    "    tempspin = list(spinarr[i])\n",
    "    tempspin[n], tempspin[n+1] = tempspin[n+1], tempspin[n]\n",
    "    j = spinarr.index(tempspin)\n",
    "    \n",
    "    return j"
   ]
  },
  {
   "cell_type": "code",
   "execution_count": 126,
   "id": "d0100efc",
   "metadata": {},
   "outputs": [],
   "source": [
    "def flipflop(w,spinarr,hm):\n",
    "    \n",
    "    for i in range(size):\n",
    "        for j in range(N-1):\n",
    "            if spinarr[i][j]*spinarr[i][j+1]==-1:\n",
    "                ind = find_ind(spinarr,j,i)\n",
    "                hm[i][ind] = w\n",
    "    return"
   ]
  },
  {
   "cell_type": "markdown",
   "id": "07de3f67",
   "metadata": {},
   "source": [
    "### Cost function (energy expectation) calculation and order parameter definition"
   ]
  },
  {
   "cell_type": "code",
   "execution_count": 127,
   "id": "7f4eab81",
   "metadata": {},
   "outputs": [],
   "source": [
    "def energy_exp(thetas):\n",
    "    \n",
    "    final_state = resource_state(thetas)\n",
    "    temp1 = np.matmul(htarget,final_state)\n",
    "    temp2 = np.real(np.dot(np.conj(final_state),temp1))\n",
    "    \n",
    "    return temp2"
   ]
  },
  {
   "cell_type": "code",
   "execution_count": 128,
   "id": "1af55b26",
   "metadata": {},
   "outputs": [],
   "source": [
    "def order_param(spinstr):\n",
    "    tot = 0.0\n",
    "    for i in range(N):\n",
    "        if (i+1)%2==0:\n",
    "            fterm = 1 + spinstr[i]\n",
    "        else:    \n",
    "            fterm = 1 - spinstr[i]\n",
    "        for j in range(i+1,N):\n",
    "            if (j+1)%2==0:\n",
    "                sterm = 1 + spinstr[j]\n",
    "            else:    \n",
    "                sterm = 1 - spinstr[j] \n",
    "            tot += fterm*sterm\n",
    "            \n",
    "    return tot/(2*N*(N-1))"
   ]
  },
  {
   "cell_type": "markdown",
   "id": "9a09e7ea",
   "metadata": {},
   "source": [
    "### VQE optimization steps"
   ]
  },
  {
   "cell_type": "code",
   "execution_count": 129,
   "id": "f4d94019",
   "metadata": {},
   "outputs": [],
   "source": [
    "from scipy.optimize import minimize"
   ]
  },
  {
   "cell_type": "code",
   "execution_count": 130,
   "id": "3f3d307e",
   "metadata": {},
   "outputs": [],
   "source": [
    "from scipy.optimize import differential_evolution"
   ]
  },
  {
   "cell_type": "markdown",
   "id": "a41f4a3b",
   "metadata": {},
   "source": [
    "Here for the classical optimization I have used the differential evolution algorithm as the minimize function with BFGS algorithm was not giving a good optimization result in the full region. However, the differential evolution algorithm is time-taking whereas the BFGS method is much much faster. To see the results of the BFGS method comment the line 'res = differential_evolution(..)' and uncomment the two lines before that."
   ]
  },
  {
   "cell_type": "code",
   "execution_count": 131,
   "id": "365b9cc1",
   "metadata": {},
   "outputs": [],
   "source": [
    "bounds = [(-np.pi,np.pi) for i in range((int(N/2)+1)*layers)]"
   ]
  },
  {
   "cell_type": "code",
   "execution_count": 132,
   "id": "4e6edc09",
   "metadata": {},
   "outputs": [],
   "source": [
    "mvals = np.linspace(5,-5,num=10)\n",
    "order_list = []\n",
    "occupation_list = []\n",
    "thetas = np.array([random.uniform(0,1) for i in range((int(N/2)+1)*layers)])\n",
    "for m in mvals:\n",
    "    w = 1.0\n",
    "    J = 1.0\n",
    "    htarget = np.zeros((size,size))\n",
    "    energy_diag(m,J,spinarr,htarget)\n",
    "    flipflop(w,spinarr,htarget)\n",
    "    #thetas = np.array([random.uniform(0,1) for i in range((int(N/2)+1)*layers)])\n",
    "    # res = minimize(energy_exp,thetas,method = 'BFGS')\n",
    "    res = differential_evolution(energy_exp, bounds)\n",
    "    vec = resource_state(res.x)\n",
    "    tot = 0.0\n",
    "    occ = 0.0\n",
    "    for i in range(size):\n",
    "        tot += order_param(spinarr[i])*abs(vec[i])*abs(vec[i])\n",
    "        occ += sum(binarr[i])*abs(vec[i])*abs(vec[i])\n",
    "    order_list.append(tot) \n",
    "    occupation_list.append(occ)\n",
    "    #thetas = res.x + np.array([random.uniform(-0.1,0.1) for i in range((int(N/2)+1)*layers)]) "
   ]
  },
  {
   "cell_type": "markdown",
   "id": "98202f1b",
   "metadata": {},
   "source": [
    "### Plot of the order parameter and occupation number with bare mass"
   ]
  },
  {
   "cell_type": "code",
   "execution_count": 133,
   "id": "912995b5",
   "metadata": {},
   "outputs": [],
   "source": [
    "plt.rcParams.update({'font.size': 14, 'font.weight':'normal', 'font.family': 'sans-serif'})"
   ]
  },
  {
   "cell_type": "code",
   "execution_count": 134,
   "id": "d6d26312",
   "metadata": {},
   "outputs": [
    {
     "data": {
      "text/plain": [
       "Text(0, 0.5, 'Order parameter')"
      ]
     },
     "execution_count": 134,
     "metadata": {},
     "output_type": "execute_result"
    },
    {
     "data": {
      "image/png": "[encoded data removed]",
      "text/plain": [
       "<Figure size 800x600 with 1 Axes>"
      ]
     },
     "metadata": {},
     "output_type": "display_data"
    }
   ],
   "source": [
    "plt.figure(figsize=(8,6))\n",
    "plt.plot(mvals,order_list,'o')\n",
    "plt.xlabel('bare mass')\n",
    "plt.ylabel('Order parameter')"
   ]
  },
  {
   "cell_type": "code",
   "execution_count": 135,
   "id": "8c39916b",
   "metadata": {},
   "outputs": [
    {
     "data": {
      "text/plain": [
       "Text(0, 0.5, 'Occupation Number')"
      ]
     },
     "execution_count": 135,
     "metadata": {},
     "output_type": "execute_result"
    },
    {
     "data": {
      "image/png": "[encoded data removed]",
      "text/plain": [
       "<Figure size 800x600 with 1 Axes>"
      ]
     },
     "metadata": {},
     "output_type": "display_data"
    }
   ],
   "source": [
    "plt.figure(figsize=(8,6))\n",
    "plt.plot(mvals,occupation_list,'o')\n",
    "plt.xlabel('bare mass')\n",
    "plt.ylabel('Occupation Number')"
   ]
  },
  {
   "cell_type": "markdown",
   "id": "4472ba22",
   "metadata": {},
   "source": [
    "## Exact diagonalization and VQE together"
   ]
  },
  {
   "cell_type": "code",
   "execution_count": 136,
   "id": "b8401067",
   "metadata": {},
   "outputs": [],
   "source": [
    "def ground_state(ht):\n",
    "    w, v = LA.eig(ht)\n",
    "    min_eig = min(w)\n",
    "    ind = np.where(w==min_eig)[0][0]\n",
    "    \n",
    "    return min_eig, v[:,ind]"
   ]
  },
  {
   "cell_type": "code",
   "execution_count": 137,
   "id": "90d0627e",
   "metadata": {},
   "outputs": [],
   "source": [
    "order_list_ED = []\n",
    "occupation_list_ED = []\n",
    "mvals2 = np.linspace(-5,5,num=50)\n",
    "for m in mvals2:\n",
    "    w = 1.0\n",
    "    J = 1.0\n",
    "    htarget = np.zeros((size,size))\n",
    "    energy_diag(m,J,spinarr,htarget)\n",
    "    flipflop(w,spinarr,htarget)\n",
    "    eig, vec = ground_state(htarget)\n",
    "    #print(vec)\n",
    "    tot = 0.0\n",
    "    occ = 0.0\n",
    "    for i in range(size):\n",
    "        tot += order_param(spinarr[i])*vec[i]*vec[i]\n",
    "        occ += sum(binarr[i])*vec[i]*vec[i]\n",
    "    order_list_ED.append(tot) \n",
    "    occupation_list_ED.append(occ)"
   ]
  },
  {
   "cell_type": "code",
   "execution_count": 139,
   "id": "c1c534a4",
   "metadata": {},
   "outputs": [
    {
     "data": {
      "image/png": "[encoded data removed]",
      "text/plain": [
       "<Figure size 800x600 with 1 Axes>"
      ]
     },
     "metadata": {},
     "output_type": "display_data"
    }
   ],
   "source": [
    "plt.figure(figsize=(8,6))\n",
    "plt.plot(mvals,order_list,'o')\n",
    "plt.plot(mvals2,order_list_ED,'-')\n",
    "plt.axvline(x=-0.7,color='black')\n",
    "plt.xlabel('bare mass')\n",
    "plt.ylabel('Order parameter')\n",
    "#plt.savefig('order_parameter_ED_vs_VQE.png')"
   ]
  },
  {
   "cell_type": "code",
   "execution_count": 77,
   "id": "d7ef45ed",
   "metadata": {},
   "outputs": [
    {
     "data": {
      "image/png": "[encoded data removed]",
      "text/plain": [
       "<Figure size 800x600 with 1 Axes>"
      ]
     },
     "metadata": {},
     "output_type": "display_data"
    }
   ],
   "source": [
    "plt.figure(figsize=(8,6))\n",
    "plt.plot(mvals[::-1],occupation_list,'o')\n",
    "plt.plot(mvals2,occupation_list_ED,'-')\n",
    "plt.axvline(x=-0.7,color='black')\n",
    "plt.xlabel('bare mass')\n",
    "plt.ylabel('Occupation Number')\n",
    "#plt.savefig('Occupation_Number_ED_vs_VQE.png')"
   ]
  },
  {
   "cell_type": "code",
   "execution_count": null,
   "id": "4b723690",
   "metadata": {},
   "outputs": [],
   "source": []
  }
 ],
 "metadata": {
  "kernelspec": {
   "display_name": "Python 3 (ipykernel)",
   "language": "python",
   "name": "python3"
  },
  "language_info": {
   "codemirror_mode": {
    "name": "ipython",
    "version": 3
   },
   "file_extension": ".py",
   "mimetype": "text/x-python",
   "name": "python",
   "nbconvert_exporter": "python",
   "pygments_lexer": "ipython3",
   "version": "3.7.9"
  }
 },
 "nbformat": 4,
 "nbformat_minor": 5
}
